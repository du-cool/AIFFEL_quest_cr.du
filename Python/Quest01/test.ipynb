{
  "nbformat": 4,
  "nbformat_minor": 0,
  "metadata": {
    "colab": {
      "provenance": [],
      "include_colab_link": true
    },
    "kernelspec": {
      "name": "python3",
      "display_name": "Python 3"
    },
    "language_info": {
      "name": "python"
    }
  },
  "cells": [
    {
      "cell_type": "markdown",
      "metadata": {
        "id": "view-in-github",
        "colab_type": "text"
      },
      "source": [
        "<a href=\"https://colab.research.google.com/github/du-cool/AIFFEL_quest_cr.du/blob/main/Python/Quest01/test.ipynb\" target=\"_parent\"><img src=\"https://colab.research.google.com/assets/colab-badge.svg\" alt=\"Open In Colab\"/></a>"
      ]
    },
    {
      "cell_type": "code",
      "execution_count": null,
      "metadata": {
        "colab": {
          "base_uri": "https://localhost:8080/"
        },
        "id": "P-2RP1S5XFGH",
        "outputId": "aaa8d276-651e-4763-f1e8-bf8b57841d7b"
      },
      "outputs": [
        {
          "output_type": "stream",
          "name": "stdout",
          "text": [
            "Hello World!\n"
          ]
        }
      ],
      "source": [
        "print('Hello World!')"
      ]
    },
    {
      "cell_type": "code",
      "source": [
        "# 회문 만들기\n",
        "def 회문(k):\n",
        "  return k == k[::-1]\n",
        "\n",
        "print(회문(\"level\"))\n",
        "print(회문('radar'))\n",
        "print(회문('hello'))\n",
        "print(회문('기러기'))\n"
      ],
      "metadata": {
        "id": "Gbg4nHJVhXQk",
        "colab": {
          "base_uri": "https://localhost:8080/"
        },
        "outputId": "72db7c2c-f700-46a6-ec04-8076bad62366"
      },
      "execution_count": null,
      "outputs": [
        {
          "output_type": "stream",
          "name": "stdout",
          "text": [
            "True\n",
            "True\n",
            "False\n",
            "True\n"
          ]
        }
      ]
    },
    {
      "cell_type": "code",
      "source": [
        "#회문 만들기\n",
        "def is_palindrome (n):\n",
        "    n = ''.join(c.lower() for c in n if c.isalnum())\n",
        "\n",
        "    left, right = 0, len(n) - 1\n",
        "    while left < right:\n",
        "        if n[left] != n[right]:\n",
        "            return False\n",
        "        left += 1\n",
        "        right -= 1\n",
        "    return True\n",
        "\n",
        "print(is_palindrome('토마토'))\n",
        "print(is_palindrome('마우스'))"
      ],
      "metadata": {
        "id": "rudMKqbEnDbL",
        "colab": {
          "base_uri": "https://localhost:8080/"
        },
        "outputId": "cd66eb82-b237-482b-f338-b69754cec563"
      },
      "execution_count": 8,
      "outputs": [
        {
          "output_type": "stream",
          "name": "stdout",
          "text": [
            "True\n",
            "False\n"
          ]
        }
      ]
    },
    {
      "cell_type": "code",
      "source": [
        "def is_palindrome(s):\n",
        "\n",
        "    return s == s[::-1]  # 문자열을 역순으로 비교\n",
        "\n",
        "# 테스트\n",
        "print(is_palindrome(\"level\"))  # True\n",
        "print(is_palindrome(\"radar\"))  # True\n",
        "print(is_palindrome(\"hello\"))  # False\n",
        "print(is_palindrome(\"토마토\"))  # True\n",
        "\n"
      ],
      "metadata": {
        "colab": {
          "base_uri": "https://localhost:8080/"
        },
        "id": "EPnoloOZc-ip",
        "outputId": "2f4ad29c-294c-4a23-e036-c9aa54012021"
      },
      "execution_count": null,
      "outputs": [
        {
          "output_type": "stream",
          "name": "stdout",
          "text": [
            "True\n",
            "True\n",
            "False\n",
            "True\n"
          ]
        }
      ]
    },
    {
      "cell_type": "code",
      "source": [
        "def my_profile(**kwargs):\n",
        "\n",
        "  for key, value in kwargs.items():\n",
        "    print(f'{key} : {value}')\n",
        "me = {'name':'홍길동', 'age':25, 'MBTI':'ESFJ'}\n",
        "my_profile(**me)"
      ],
      "metadata": {
        "id": "gP1kUSW62kDR",
        "outputId": "143993a5-fd9d-437a-cf93-e102feedb808",
        "colab": {
          "base_uri": "https://localhost:8080/"
        }
      },
      "execution_count": 22,
      "outputs": [
        {
          "output_type": "stream",
          "name": "stdout",
          "text": [
            "name : 홍길동\n",
            "age : 25\n",
            "MBTI : ESFJ\n"
          ]
        }
      ]
    },
    {
      "cell_type": "code",
      "source": [],
      "metadata": {
        "id": "j1UVIO_d4CQU"
      },
      "execution_count": null,
      "outputs": []
    },
    {
      "cell_type": "code",
      "source": [],
      "metadata": {
        "id": "2cP23SyujaqW"
      },
      "execution_count": null,
      "outputs": []
    }
  ]
}